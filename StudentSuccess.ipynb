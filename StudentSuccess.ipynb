{
  "nbformat": 4,
  "nbformat_minor": 0,
  "metadata": {
    "colab": {
      "provenance": [],
      "authorship_tag": "ABX9TyMR22f3TCrXWkQiiGXvSTfp",
      "include_colab_link": true
    },
    "kernelspec": {
      "name": "python3",
      "display_name": "Python 3"
    },
    "language_info": {
      "name": "python"
    }
  },
  "cells": [
    {
      "cell_type": "markdown",
      "metadata": {
        "id": "view-in-github",
        "colab_type": "text"
      },
      "source": [
        "<a href=\"https://colab.research.google.com/github/HueyKolowich/student_success/blob/master/StudentSuccess.ipynb\" target=\"_parent\"><img src=\"https://colab.research.google.com/assets/colab-badge.svg\" alt=\"Open In Colab\"/></a>"
      ]
    },
    {
      "cell_type": "markdown",
      "source": [
        "IMPORTS"
      ],
      "metadata": {
        "id": "InPJGeJ-d6t6"
      }
    },
    {
      "cell_type": "code",
      "execution_count": 3,
      "metadata": {
        "colab": {
          "base_uri": "https://localhost:8080/"
        },
        "id": "yachOnqud0-x",
        "outputId": "53c650a9-8bfe-493b-ffb1-f6b6b99fcfbf"
      },
      "outputs": [
        {
          "output_type": "stream",
          "name": "stdout",
          "text": [
            "Collecting ucimlrepo\n",
            "  Downloading ucimlrepo-0.0.7-py3-none-any.whl.metadata (5.5 kB)\n",
            "Requirement already satisfied: pandas>=1.0.0 in /usr/local/lib/python3.10/dist-packages (from ucimlrepo) (2.2.2)\n",
            "Requirement already satisfied: certifi>=2020.12.5 in /usr/local/lib/python3.10/dist-packages (from ucimlrepo) (2024.8.30)\n",
            "Requirement already satisfied: numpy>=1.22.4 in /usr/local/lib/python3.10/dist-packages (from pandas>=1.0.0->ucimlrepo) (1.26.4)\n",
            "Requirement already satisfied: python-dateutil>=2.8.2 in /usr/local/lib/python3.10/dist-packages (from pandas>=1.0.0->ucimlrepo) (2.8.2)\n",
            "Requirement already satisfied: pytz>=2020.1 in /usr/local/lib/python3.10/dist-packages (from pandas>=1.0.0->ucimlrepo) (2024.2)\n",
            "Requirement already satisfied: tzdata>=2022.7 in /usr/local/lib/python3.10/dist-packages (from pandas>=1.0.0->ucimlrepo) (2024.2)\n",
            "Requirement already satisfied: six>=1.5 in /usr/local/lib/python3.10/dist-packages (from python-dateutil>=2.8.2->pandas>=1.0.0->ucimlrepo) (1.16.0)\n",
            "Downloading ucimlrepo-0.0.7-py3-none-any.whl (8.0 kB)\n",
            "Installing collected packages: ucimlrepo\n",
            "Successfully installed ucimlrepo-0.0.7\n"
          ]
        }
      ],
      "source": [
        "!pip install ucimlrepo\n",
        "\n",
        "from ucimlrepo import fetch_ucirepo\n",
        "from matplotlib import pyplot as plt\n",
        "from sklearn.preprocessing import LabelEncoder\n",
        "\n",
        "import pandas as pd"
      ]
    },
    {
      "cell_type": "markdown",
      "source": [
        "DATA"
      ],
      "metadata": {
        "id": "tcfE9y-Sd_0r"
      }
    },
    {
      "cell_type": "code",
      "source": [
        "predict_students_dropout_and_academic_success = fetch_ucirepo(id=697)\n",
        "\n",
        "X = predict_students_dropout_and_academic_success.data.features\n",
        "y = predict_students_dropout_and_academic_success.data.targets\n",
        "\n",
        "# Missing:\n",
        "  # Type of School\n",
        "  # Tuition Cost\n",
        "features_to_keep = [\n",
        "    'Marital Status',\n",
        "    'Age at enrollment',\n",
        "    'Previous qualification',\n",
        "    'Previous qualification (grade)',\n",
        "    'Nacionality', # Maybe need to drop this feature\n",
        "    'Mother\\'s qualification',\n",
        "    'Father\\'s qualification',\n",
        "    'Mother\\'s occupation',\n",
        "    'Father\\'s occupation',\n",
        "    'Displaced',\n",
        "    'Educational special needs',\n",
        "    'Debtor',\n",
        "    'Tuition fees up to date',\n",
        "    'Gender',\n",
        "    'Scholarship holder'\n",
        "]\n",
        "\n",
        "print(X['Father\\'s occupation'].value_counts())\n"
      ],
      "metadata": {
        "colab": {
          "base_uri": "https://localhost:8080/"
        },
        "id": "183iWe2nd_kW",
        "outputId": "d4eae9c2-7aed-44dd-cdf0-c03b7b5801b4"
      },
      "execution_count": 19,
      "outputs": [
        {
          "output_type": "stream",
          "name": "stdout",
          "text": [
            "Father's occupation\n",
            "9      1010\n",
            "7       666\n",
            "5       516\n",
            "4       386\n",
            "3       384\n",
            "8       318\n",
            "10      266\n",
            "6       242\n",
            "2       197\n",
            "1       134\n",
            "0       128\n",
            "90       65\n",
            "99       19\n",
            "193      15\n",
            "144       8\n",
            "171       8\n",
            "192       6\n",
            "163       5\n",
            "103       4\n",
            "175       4\n",
            "135       3\n",
            "183       3\n",
            "152       3\n",
            "123       3\n",
            "181       3\n",
            "194       2\n",
            "182       2\n",
            "112       2\n",
            "151       2\n",
            "172       2\n",
            "122       2\n",
            "102       2\n",
            "153       1\n",
            "101       1\n",
            "114       1\n",
            "174       1\n",
            "141       1\n",
            "132       1\n",
            "134       1\n",
            "143       1\n",
            "131       1\n",
            "161       1\n",
            "195       1\n",
            "121       1\n",
            "124       1\n",
            "154       1\n",
            "Name: count, dtype: int64\n"
          ]
        }
      ]
    },
    {
      "cell_type": "markdown",
      "source": [
        "Some initial thoughts on how to bin the qualifications...\n",
        "\n",
        "Feature 6 is the frequency of higher education... we might need to drop this option (it is currently not included in any of the bins)\n",
        "\n",
        "We will likely use the following categories:\n",
        "- No education\n",
        "      (35, 36)\n",
        "- Primary education\n",
        "      (30, 38)\n",
        "- Primary education dropout\n",
        "      (11, 26, 37)\n",
        "- Secondary education\n",
        "      (1, 13, 20, 27)\n",
        "- Secondary education dropout\n",
        "      (9, 10, 12, 14, 19, 29, 25)\n",
        "- Bachelors education\n",
        "      (2, 3)\n",
        "- Higher education\n",
        "      (4, 5, 40, 43, 44)\n",
        "- Other education\n",
        "      (18, 22, 31, 33, 39, 41, 42)\n",
        "- Unknown\n",
        "      (34)"
      ],
      "metadata": {
        "id": "6obJw9Imr0zm"
      }
    },
    {
      "cell_type": "code",
      "source": [
        "dist = {}\n",
        "\n",
        "for level in X['Father\\'s qualification']:\n",
        "  if level not in dist.keys():\n",
        "    dist[level] = 1\n",
        "  else:\n",
        "    dist[level] += 1\n",
        "\n",
        "items = sorted(dist.items())\n",
        "\n",
        "a, b = zip(*items)\n",
        "plt.bar(a, b)\n",
        "plt.show()\n",
        "\n",
        "for item in sorted(dist.items()):\n",
        "  if item[1] > 10:\n",
        "    print(item)"
      ],
      "metadata": {
        "colab": {
          "base_uri": "https://localhost:8080/",
          "height": 617
        },
        "id": "eiFFEWKMlwyr",
        "outputId": "6c9fa5d5-db46-4cdc-97e0-ec268052451d"
      },
      "execution_count": 20,
      "outputs": [
        {
          "output_type": "display_data",
          "data": {
            "text/plain": [
              "<Figure size 640x480 with 1 Axes>"
            ],
            "image/png": "[encoded data removed]"
          },
          "metadata": {}
        },
        {
          "output_type": "stream",
          "name": "stdout",
          "text": [
            "(1, 904)\n",
            "(2, 68)\n",
            "(3, 282)\n",
            "(4, 39)\n",
            "(5, 18)\n",
            "(12, 38)\n",
            "(19, 968)\n",
            "(34, 112)\n",
            "(37, 1209)\n",
            "(38, 702)\n",
            "(39, 20)\n"
          ]
        }
      ]
    },
    {
      "cell_type": "markdown",
      "source": [
        "Occupational bins:\n",
        "\n",
        "- Students\n",
        "      (0)\n",
        "- Legislative, Executive, and Senior Management\n",
        "      (1, 112, 114)\n",
        "- Specialists and Professionals in Intellectual and Scientific Fields\n",
        "      (2, 121, 122, 123, 124)\n",
        "- Intermediate Level Technicians and Technologists\n",
        "      (3, 131, 132, 134, 135)\n",
        "- Administrative and Office Support Roles\n",
        "      (4, 141, 143, 144)\n",
        "- Personal Services, Security, Sales, and Care Roles\n",
        "      (5, 151, 152, 153, 154, 195)\n",
        "- Agriculture, Forestry, and Fishery Workers\n",
        "      (6, 161, 163, 192)\n",
        "- Skilled Industry, Construction, and Craftsmen\n",
        "      (7, 171, 172, 174, 175)\n",
        "- Machinery, Vehicle Operation, and Assembly Workers\n",
        "      (8, 181, 182, 183)\n",
        "- Unskilled Labor\n",
        "      (9, 193, 194)\n",
        "- Armed Forces Professions\n",
        "      (10, 101, 102, 103)\n",
        "- Other and Undefined\n",
        "      (90, 99)"
      ],
      "metadata": {
        "id": "XRNIaV5xURaN"
      }
    },
    {
      "cell_type": "code",
      "source": [
        "dist = {}\n",
        "\n",
        "for level in X['Father\\'s occupation']:\n",
        "  if level not in dist.keys():\n",
        "    dist[level] = 1\n",
        "  else:\n",
        "    dist[level] += 1\n",
        "\n",
        "items = sorted(dist.items())\n",
        "\n",
        "a, b = zip(*items)\n",
        "plt.bar(a, b)\n",
        "plt.show()\n",
        "\n",
        "for item in sorted(dist.items()):\n",
        "  if item[1] > 10:\n",
        "    print(item)"
      ],
      "metadata": {
        "colab": {
          "base_uri": "https://localhost:8080/",
          "height": 668
        },
        "id": "pmhf8GOwUTZ4",
        "outputId": "2531e561-9814-43de-abb4-85b9e4dcb348"
      },
      "execution_count": 21,
      "outputs": [
        {
          "output_type": "display_data",
          "data": {
            "text/plain": [
              "<Figure size 640x480 with 1 Axes>"
            ],
            "image/png": "[encoded data removed]"
          },
          "metadata": {}
        },
        {
          "output_type": "stream",
          "name": "stdout",
          "text": [
            "(0, 128)\n",
            "(1, 134)\n",
            "(2, 197)\n",
            "(3, 384)\n",
            "(4, 386)\n",
            "(5, 516)\n",
            "(6, 242)\n",
            "(7, 666)\n",
            "(8, 318)\n",
            "(9, 1010)\n",
            "(10, 266)\n",
            "(90, 65)\n",
            "(99, 19)\n",
            "(193, 15)\n"
          ]
        }
      ]
    },
    {
      "cell_type": "code",
      "source": [
        "qualification_bins = {\n",
        "    35: 'No education', 36: 'No education',\n",
        "    30: 'Primary education', 38: 'Primary education',\n",
        "    11: 'Primary education dropout', 26: 'Primary education dropout', 37: 'Primary education dropout',\n",
        "    1: 'Secondary education', 13: 'Secondary education', 20: 'Secondary education', 27: 'Secondary education',\n",
        "    9: 'Secondary education dropout', 10: 'Secondary education dropout', 12: 'Secondary education dropout',\n",
        "    14: 'Secondary education dropout', 19: 'Secondary education dropout', 29: 'Secondary education dropout',\n",
        "    25: 'Secondary education dropout',\n",
        "    2: 'Bachelors education', 3: 'Bachelors education',\n",
        "    4: 'Higher education', 5: 'Higher education', 40: 'Higher education', 43: 'Higher education', 44: 'Higher education',\n",
        "    18: 'Other education', 22: 'Other education', 31: 'Other education', 33: 'Other education', 39: 'Other education',\n",
        "    41: 'Other education', 42: 'Other education',\n",
        "    34: 'Unknown'\n",
        "}\n",
        "\n",
        "occupational_bins = {\n",
        "    0: 'Students',\n",
        "    1: 'Legislative, Executive, and Senior Management', 112: 'Legislative, Executive, and Senior Management', 114: 'Legislative, Executive, and Senior Management',\n",
        "    2: 'Specialists and Professionals in Intellectual and Scientific Fields', 121: 'Specialists and Professionals in Intellectual and Scientific Fields',\n",
        "    122: 'Specialists and Professionals in Intellectual and Scientific Fields', 123: 'Specialists and Professionals in Intellectual and Scientific Fields',\n",
        "    124: 'Specialists and Professionals in Intellectual and Scientific Fields',\n",
        "    3: 'Intermediate Level Technicians and Technologists', 131: 'Intermediate Level Technicians and Technologists',\n",
        "    132: 'Intermediate Level Technicians and Technologists', 134: 'Intermediate Level Technicians and Technologists',\n",
        "    135: 'Intermediate Level Technicians and Technologists',\n",
        "    4: 'Administrative and Office Support Roles', 141: 'Administrative and Office Support Roles',\n",
        "    143: 'Administrative and Office Support Roles', 144: 'Administrative and Office Support Roles',\n",
        "    5: 'Personal Services, Security, Sales, and Care Roles', 151: 'Personal Services, Security, Sales, and Care Roles',\n",
        "    152: 'Personal Services, Security, Sales, and Care Roles', 153: 'Personal Services, Security, Sales, and Care Roles',\n",
        "    154: 'Personal Services, Security, Sales, and Care Roles', 195: 'Personal Services, Security, Sales, and Care Roles',\n",
        "    6: 'Agriculture, Forestry, and Fishery Workers', 161: 'Agriculture, Forestry, and Fishery Workers',\n",
        "    163: 'Agriculture, Forestry, and Fishery Workers', 192: 'Agriculture, Forestry, and Fishery Workers',\n",
        "    7: 'Skilled Industry, Construction, and Craftsmen', 171: 'Skilled Industry, Construction, and Craftsmen',\n",
        "    172: 'Skilled Industry, Construction, and Craftsmen', 174: 'Skilled Industry, Construction, and Craftsmen',\n",
        "    175: 'Skilled Industry, Construction, and Craftsmen',\n",
        "    8: 'Machinery, Vehicle Operation, and Assembly Workers', 181: 'Machinery, Vehicle Operation, and Assembly Workers',\n",
        "    182: 'Machinery, Vehicle Operation, and Assembly Workers', 183: 'Machinery, Vehicle Operation, and Assembly Workers',\n",
        "    9: 'Unskilled Labor', 193: 'Unskilled Labor', 194: 'Unskilled Labor',\n",
        "    10: 'Armed Forces Professions', 101: 'Armed Forces Professions', 102: 'Armed Forces Professions', 103: 'Armed Forces Professions',\n",
        "    90: 'Other and Undefined', 99: 'Other and Undefined'\n",
        "}\n",
        "\n",
        "X.loc[:, \"Father's qualification\"] = X[\"Father's qualification\"].map(qualification_bins)\n",
        "X.loc[:, \"Mother's qualification\"] = X[\"Mother's qualification\"].map(qualification_bins)\n",
        "\n",
        "X.loc[:, \"Father's occupation\"] = X[\"Father's occupation\"].map(occupational_bins)\n",
        "X.loc[:, \"Mother's occupation\"] = X[\"Mother's occupation\"].map(occupational_bins)\n",
        "\n",
        "X = pd.get_dummies(X, columns=[\"Father's qualification\", \"Mother's qualification\"])\n",
        "X = pd.get_dummies(X, columns=[\"Father's occupation\", \"Mother's occupation\"])\n",
        "\n",
        "# OPTIONALLY WE CAN ENCODED INTO A REAL FEATURE (1, 2, ...ETC)\n",
        "# THIS WOULD REDUCE THE AMOUNT OF FEARTURES WE HAVE BY ABOUT 38\n",
        "# However this would associated the different bins by their sorting in our list\n",
        "\n",
        "# le = LabelEncoder()\n",
        "# data['qualification_encoded'] = le.fit_transform(data['Father\\'s qualification'])\n",
        "# data['occupation_encoded'] = le.fit_transform(data['Father\\'s occupation'])"
      ],
      "metadata": {
        "colab": {
          "base_uri": "https://localhost:8080/"
        },
        "id": "H6YkyDxKE52C",
        "outputId": "110e60bc-c14d-4200-8964-92021007e0c8"
      },
      "execution_count": 22,
      "outputs": [
        {
          "output_type": "stream",
          "name": "stderr",
          "text": [
            "<ipython-input-22-bbde720450fa>:42: FutureWarning: Setting an item of incompatible dtype is deprecated and will raise in a future error of pandas. Value '['Secondary education dropout' 'Bachelors education'\n",
            " 'Primary education dropout' ... 'Primary education dropout'\n",
            " 'Primary education dropout' 'Primary education dropout']' has dtype incompatible with int64, please explicitly cast to a compatible dtype first.\n",
            "  X.loc[:, \"Father's qualification\"] = X[\"Father's qualification\"].map(qualification_bins)\n",
            "<ipython-input-22-bbde720450fa>:43: FutureWarning: Setting an item of incompatible dtype is deprecated and will raise in a future error of pandas. Value '['Secondary education dropout' 'Secondary education'\n",
            " 'Primary education dropout' ... 'Primary education dropout'\n",
            " 'Primary education dropout' 'Primary education']' has dtype incompatible with int64, please explicitly cast to a compatible dtype first.\n",
            "  X.loc[:, \"Mother's qualification\"] = X[\"Mother's qualification\"].map(qualification_bins)\n",
            "<ipython-input-22-bbde720450fa>:45: FutureWarning: Setting an item of incompatible dtype is deprecated and will raise in a future error of pandas. Value '['Unskilled Labor' 'Intermediate Level Technicians and Technologists'\n",
            " 'Unskilled Labor' ... 'Unskilled Labor'\n",
            " 'Administrative and Office Support Roles' 'Unskilled Labor']' has dtype incompatible with int64, please explicitly cast to a compatible dtype first.\n",
            "  X.loc[:, \"Father's occupation\"] = X[\"Father's occupation\"].map(occupational_bins)\n",
            "<ipython-input-22-bbde720450fa>:46: FutureWarning: Setting an item of incompatible dtype is deprecated and will raise in a future error of pandas. Value '['Personal Services, Security, Sales, and Care Roles'\n",
            " 'Intermediate Level Technicians and Technologists' 'Unskilled Labor' ...\n",
            " 'Unskilled Labor' 'Skilled Industry, Construction, and Craftsmen'\n",
            " 'Personal Services, Security, Sales, and Care Roles']' has dtype incompatible with int64, please explicitly cast to a compatible dtype first.\n",
            "  X.loc[:, \"Mother's occupation\"] = X[\"Mother's occupation\"].map(occupational_bins)\n"
          ]
        }
      ]
    }
  ]
}