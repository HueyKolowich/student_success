{
  "nbformat": 4,
  "nbformat_minor": 0,
  "metadata": {
    "colab": {
      "provenance": []
    },
    "kernelspec": {
      "name": "python3",
      "display_name": "Python 3"
    },
    "language_info": {
      "name": "python"
    }
  },
  "cells": [
    {
      "cell_type": "markdown",
      "source": [
        "IMPORTS"
      ],
      "metadata": {
        "id": "InPJGeJ-d6t6"
      }
    },
    {
      "cell_type": "code",
      "execution_count": 8,
      "metadata": {
        "colab": {
          "base_uri": "https://localhost:8080/"
        },
        "id": "yachOnqud0-x",
        "outputId": "edfc9d60-4fd4-471d-9515-b605bb4e7702"
      },
      "outputs": [
        {
          "output_type": "stream",
          "name": "stdout",
          "text": [
            "Requirement already satisfied: ucimlrepo in /usr/local/lib/python3.10/dist-packages (0.0.7)\n",
            "Requirement already satisfied: pandas>=1.0.0 in /usr/local/lib/python3.10/dist-packages (from ucimlrepo) (2.2.2)\n",
            "Requirement already satisfied: certifi>=2020.12.5 in /usr/local/lib/python3.10/dist-packages (from ucimlrepo) (2024.8.30)\n",
            "Requirement already satisfied: numpy>=1.22.4 in /usr/local/lib/python3.10/dist-packages (from pandas>=1.0.0->ucimlrepo) (1.26.4)\n",
            "Requirement already satisfied: python-dateutil>=2.8.2 in /usr/local/lib/python3.10/dist-packages (from pandas>=1.0.0->ucimlrepo) (2.8.2)\n",
            "Requirement already satisfied: pytz>=2020.1 in /usr/local/lib/python3.10/dist-packages (from pandas>=1.0.0->ucimlrepo) (2024.2)\n",
            "Requirement already satisfied: tzdata>=2022.7 in /usr/local/lib/python3.10/dist-packages (from pandas>=1.0.0->ucimlrepo) (2024.2)\n",
            "Requirement already satisfied: six>=1.5 in /usr/local/lib/python3.10/dist-packages (from python-dateutil>=2.8.2->pandas>=1.0.0->ucimlrepo) (1.16.0)\n"
          ]
        }
      ],
      "source": [
        "!pip install ucimlrepo\n",
        "\n",
        "from ucimlrepo import fetch_ucirepo\n",
        "from matplotlib import pyplot as plt"
      ]
    },
    {
      "cell_type": "markdown",
      "source": [
        "DATA"
      ],
      "metadata": {
        "id": "tcfE9y-Sd_0r"
      }
    },
    {
      "cell_type": "code",
      "source": [
        "predict_students_dropout_and_academic_success = fetch_ucirepo(id=697)\n",
        "\n",
        "X = predict_students_dropout_and_academic_success.data.features\n",
        "y = predict_students_dropout_and_academic_success.data.targets\n",
        "\n",
        "# Missing:\n",
        "  # Type of School\n",
        "  # Tuition Cost\n",
        "features_to_keep = [\n",
        "    'Marital Status',\n",
        "    'Age at enrollment',\n",
        "    'Previous qualification',\n",
        "    'Previous qualification (grade)',\n",
        "    'Nacionality', # Maybe need to drop this feature\n",
        "    'Mother\\'s qualification',\n",
        "    'Father\\'s qualification',\n",
        "    'Mother\\'s occupation',\n",
        "    'Father\\'s occupation',\n",
        "    'Displaced',\n",
        "    'Educational special needs',\n",
        "    'Debtor',\n",
        "    'Tuition fees up to date',\n",
        "    'Gender',\n",
        "    'Scholarship holder'\n",
        "]\n",
        "\n",
        "print(X['Nacionality'].value_counts())\n"
      ],
      "metadata": {
        "colab": {
          "base_uri": "https://localhost:8080/"
        },
        "id": "183iWe2nd_kW",
        "outputId": "23ad4664-2680-4b4a-a6aa-557dbe830ce4"
      },
      "execution_count": 29,
      "outputs": [
        {
          "output_type": "stream",
          "name": "stdout",
          "text": [
            "Nacionality\n",
            "1      4314\n",
            "41       38\n",
            "26       14\n",
            "22       13\n",
            "6        13\n",
            "24        5\n",
            "100       3\n",
            "11        3\n",
            "103       3\n",
            "21        2\n",
            "101       2\n",
            "62        2\n",
            "25        2\n",
            "2         2\n",
            "105       2\n",
            "32        1\n",
            "13        1\n",
            "109       1\n",
            "108       1\n",
            "14        1\n",
            "17        1\n",
            "Name: count, dtype: int64\n"
          ]
        }
      ]
    },
    {
      "cell_type": "markdown",
      "source": [
        "Some initial thoughts on how to bin the qualifications...\n",
        "\n",
        "Feature 6 is the frequency of higher education... we might need to drop this option (it is currently not included in any of the bins)\n",
        "\n",
        "We will likely use the following categories:\n",
        "- No education\n",
        "      (35, 36)\n",
        "- Primary education\n",
        "      (30, 38)\n",
        "- Primary education dropout\n",
        "      (11, 26, 37)\n",
        "- Secondary education\n",
        "      (1, 13, 20, 27)\n",
        "- Secondary education dropout\n",
        "      (9, 10, 12, 14, 19, 29, 25)\n",
        "- Bachelors education\n",
        "      (2, 3)\n",
        "- Higher education\n",
        "      (4, 5, 40, 43, 44)\n",
        "- Other education\n",
        "      (18, 22, 31, 33, 39, 41, 42)\n",
        "- Unknown\n",
        "      (34)"
      ],
      "metadata": {
        "id": "6obJw9Imr0zm"
      }
    },
    {
      "cell_type": "code",
      "source": [
        "dist = {}\n",
        "\n",
        "for level in X['Father\\'s qualification']:\n",
        "  if level not in dist.keys():\n",
        "    dist[level] = 1\n",
        "  else:\n",
        "    dist[level] += 1\n",
        "\n",
        "items = sorted(dist.items())\n",
        "\n",
        "a, b = zip(*items)\n",
        "plt.bar(a, b)\n",
        "plt.show()\n",
        "\n",
        "for item in sorted(dist.items()):\n",
        "  if item[1] > 10:\n",
        "    print(item)"
      ],
      "metadata": {
        "colab": {
          "base_uri": "https://localhost:8080/",
          "height": 617
        },
        "id": "eiFFEWKMlwyr",
        "outputId": "ab0d2d1e-b3d3-4a64-fb0f-a28e8c8f7076"
      },
      "execution_count": 22,
      "outputs": [
        {
          "output_type": "display_data",
          "data": {
            "text/plain": [
              "<Figure size 640x480 with 1 Axes>"
            ],
            "image/png": "[encoded data removed]"
          },
          "metadata": {}
        },
        {
          "output_type": "stream",
          "name": "stdout",
          "text": [
            "(1, 904)\n",
            "(2, 68)\n",
            "(3, 282)\n",
            "(4, 39)\n",
            "(5, 18)\n",
            "(12, 38)\n",
            "(19, 968)\n",
            "(34, 112)\n",
            "(37, 1209)\n",
            "(38, 702)\n",
            "(39, 20)\n"
          ]
        }
      ]
    }
  ]
}